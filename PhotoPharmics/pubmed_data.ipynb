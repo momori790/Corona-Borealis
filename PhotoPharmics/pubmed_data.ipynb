{
 "cells": [
  {
   "cell_type": "markdown",
   "metadata": {},
   "source": [
    "Biopython trial"
   ]
  },
  {
   "cell_type": "code",
   "execution_count": 1,
   "metadata": {},
   "outputs": [],
   "source": [
    "from Bio import Entrez\n",
    "import pandas as pd\n",
    "import re\n",
    "import seaborn as sns\n",
    "\n",
    "sns.set_style(\"whitegrid\")\n",
    "sns.set_context(\"poster\")\n",
    "\n",
    "#replace with whoever is using this\n",
    "Entrez.email = 'masashi.omori@gmail.com'"
   ]
  },
  {
   "cell_type": "code",
   "execution_count": 2,
   "metadata": {},
   "outputs": [],
   "source": [
    "#Find how many articles on asthma we can find on PubMed\n",
    "# handle = Entrez.egquery(term='asthma')\n",
    "# record = Entrez.read(handle)\n",
    "# for row in record['eGQueryResult']:\n",
    "#     if row['DbName']=='pubmed':\n",
    "#         print(row['Count'])\n",
    "def get_citations_for_pmid(pmid):\n",
    "    results = Entrez.read(Entrez.elink(dbfrom=\"pubmed\", db=\"pmc\",\n",
    "                                       LinkName=\"pubmed_pmc_refs\", id=pmid))\n",
    "    try:\n",
    "        pmc_ids = [link[\"Id\"] for link in results[0][\"LinkSetDb\"][0][\"Link\"]]\n",
    "        return pmc_ids\n",
    "    except:\n",
    "        return 0 "
   ]
  },
  {
   "cell_type": "code",
   "execution_count": 3,
   "metadata": {},
   "outputs": [
    {
     "name": "stdout",
     "output_type": "stream",
     "text": [
      "no citations\n"
     ]
    }
   ],
   "source": [
    "from Bio import Entrez\n",
    "pmid = \"30006538\"\n",
    "results = Entrez.read(Entrez.elink(dbfrom=\"pubmed\", db=\"pmc\",\n",
    "                                   LinkName=\"pubmed_pmc_refs\", id=pmid))\n",
    "try:\n",
    "    pmc_ids = [link[\"Id\"] for link in results[0][\"LinkSetDb\"][0][\"Link\"]]\n",
    "    len(pmc_ids)\n",
    "except:\n",
    "    print 'no citations'\n"
   ]
  },
  {
   "cell_type": "code",
   "execution_count": 3,
   "metadata": {},
   "outputs": [
    {
     "data": {
      "text/plain": [
       "(['30036600', '30036597'], 100000)"
      ]
     },
     "execution_count": 3,
     "metadata": {},
     "output_type": "execute_result"
    }
   ],
   "source": [
    "#use Bio.Entrez.efetch function to donwload PubMed IDs of these articles\n",
    "from Bio import Entrez\n",
    "#handle = Entrez.esearch(db='pubmed', term='asthma',retmax=100)\n",
    "handle = Entrez.esearch(db='pubmed', term='asthma',retmax=100000)\n",
    "\n",
    "record = Entrez.read(handle)\n",
    "handle.close()\n",
    "idlist = record[\"IdList\"]\n",
    "idlist[:2], len(idlist)\n"
   ]
  },
  {
   "cell_type": "markdown",
   "metadata": {},
   "source": [
    "# grab citations\n"
   ]
  },
  {
   "cell_type": "code",
   "execution_count": 5,
   "metadata": {},
   "outputs": [],
   "source": [
    "# citations = []\n",
    "# print len(idlist)\n",
    "# #for pmid in idlist[len(idlist)-10:]:\n",
    "# for pmid in idlist:\n",
    "#     cit =  get_citations_for_pmid(pmid)\n",
    "    \n",
    "#     citations.append({pmid: cit})"
   ]
  },
  {
   "cell_type": "code",
   "execution_count": 5,
   "metadata": {},
   "outputs": [
    {
     "name": "stdout",
     "output_type": "stream",
     "text": [
      "failed index 97279\n",
      "<urlopen error [Errno 60] Operation timed out>\n"
     ]
    }
   ],
   "source": [
    "citations = {}\n",
    "for i in range(len(idlist)-1, -1,-1):\n",
    "    try:\n",
    "        pmid = idlist[i]\n",
    "        cit = get_citations_for_pmid(pmid)\n",
    "        citations[pmid]=cit\n",
    "        #citations.append({pmid: cit})\n",
    "    except Exception as e:\n",
    "        print 'failed index {}'.format(i)\n",
    "        print e\n",
    "        break"
   ]
  },
  {
   "cell_type": "code",
   "execution_count": 11,
   "metadata": {},
   "outputs": [],
   "source": [
    "tuples = []\n",
    "for k,v in citations.iteritems():\n",
    "    if v==0:\n",
    "        tuples.append((k,[]))\n",
    "    else:\n",
    "        tuples.append((k,v))\n"
   ]
  },
  {
   "cell_type": "code",
   "execution_count": 14,
   "metadata": {},
   "outputs": [
    {
     "data": {
      "text/html": [
       "<div>\n",
       "<style>\n",
       "    .dataframe thead tr:only-child th {\n",
       "        text-align: right;\n",
       "    }\n",
       "\n",
       "    .dataframe thead th {\n",
       "        text-align: left;\n",
       "    }\n",
       "\n",
       "    .dataframe tbody tr th {\n",
       "        vertical-align: top;\n",
       "    }\n",
       "</style>\n",
       "<table border=\"1\" class=\"dataframe\">\n",
       "  <thead>\n",
       "    <tr style=\"text-align: right;\">\n",
       "      <th></th>\n",
       "      <th>pmid</th>\n",
       "      <th>cited_by</th>\n",
       "    </tr>\n",
       "  </thead>\n",
       "  <tbody>\n",
       "    <tr>\n",
       "      <th>0</th>\n",
       "      <td>11745909</td>\n",
       "      <td>[1576223]</td>\n",
       "    </tr>\n",
       "    <tr>\n",
       "      <th>1</th>\n",
       "      <td>11502640</td>\n",
       "      <td>[5968247, 4437362, 4418123, 3650588, 2565672]</td>\n",
       "    </tr>\n",
       "    <tr>\n",
       "      <th>2</th>\n",
       "      <td>11770697</td>\n",
       "      <td>[5992052, 4435071, 4342672, 3585335, 2843453, ...</td>\n",
       "    </tr>\n",
       "    <tr>\n",
       "      <th>3</th>\n",
       "      <td>11770696</td>\n",
       "      <td>[5633319, 3247621]</td>\n",
       "    </tr>\n",
       "    <tr>\n",
       "      <th>4</th>\n",
       "      <td>11770691</td>\n",
       "      <td>[]</td>\n",
       "    </tr>\n",
       "  </tbody>\n",
       "</table>\n",
       "</div>"
      ],
      "text/plain": [
       "       pmid                                           cited_by\n",
       "0  11745909                                          [1576223]\n",
       "1  11502640      [5968247, 4437362, 4418123, 3650588, 2565672]\n",
       "2  11770697  [5992052, 4435071, 4342672, 3585335, 2843453, ...\n",
       "3  11770696                                 [5633319, 3247621]\n",
       "4  11770691                                                 []"
      ]
     },
     "execution_count": 14,
     "metadata": {},
     "output_type": "execute_result"
    }
   ],
   "source": [
    "df = pd.DataFrame(tuples, columns=['pmid','cited_by'])\n",
    "df.head()"
   ]
  },
  {
   "cell_type": "code",
   "execution_count": 17,
   "metadata": {},
   "outputs": [],
   "source": [
    "df.to_csv('/users/momori/downloads/citations.csv', index_label=False)"
   ]
  },
  {
   "cell_type": "code",
   "execution_count": 19,
   "metadata": {},
   "outputs": [
    {
     "data": {
      "text/plain": [
       "(2720, 2)"
      ]
     },
     "execution_count": 19,
     "metadata": {},
     "output_type": "execute_result"
    }
   ],
   "source": [
    "pd.read_csv('/users/momori/downloads/citations.csv').shape"
   ]
  },
  {
   "cell_type": "code",
   "execution_count": null,
   "metadata": {},
   "outputs": [],
   "source": []
  },
  {
   "cell_type": "code",
   "execution_count": null,
   "metadata": {},
   "outputs": [],
   "source": []
  },
  {
   "cell_type": "code",
   "execution_count": 24,
   "metadata": {},
   "outputs": [],
   "source": [
    "df = pd.DataFrame(citations, columns=['pmid','referenced_by'])"
   ]
  },
  {
   "cell_type": "code",
   "execution_count": null,
   "metadata": {},
   "outputs": [],
   "source": []
  },
  {
   "cell_type": "code",
   "execution_count": 20,
   "metadata": {},
   "outputs": [],
   "source": [
    "#Use medline records in medline flat-file format and use Bio.Medline to parse them\n",
    "from Bio import Medline\n",
    "handle = Entrez.efetch(db='pubmed', id=idlist, rettype='medline', retmode='text')\n",
    "records = Medline.parse(handle)"
   ]
  },
  {
   "cell_type": "code",
   "execution_count": 21,
   "metadata": {},
   "outputs": [],
   "source": [
    "#records is an ITERATOR, ie you can only iterate them once. Convert to list if you want to save them\n",
    "records = list(records)"
   ]
  },
  {
   "cell_type": "code",
   "execution_count": 22,
   "metadata": {},
   "outputs": [
    {
     "data": {
      "text/plain": [
       "10000"
      ]
     },
     "execution_count": 22,
     "metadata": {},
     "output_type": "execute_result"
    }
   ],
   "source": [
    "len(records)"
   ]
  },
  {
   "cell_type": "code",
   "execution_count": null,
   "metadata": {},
   "outputs": [],
   "source": []
  },
  {
   "cell_type": "code",
   "execution_count": null,
   "metadata": {},
   "outputs": [],
   "source": []
  },
  {
   "cell_type": "code",
   "execution_count": null,
   "metadata": {},
   "outputs": [],
   "source": []
  },
  {
   "cell_type": "code",
   "execution_count": null,
   "metadata": {},
   "outputs": [],
   "source": []
  },
  {
   "cell_type": "code",
   "execution_count": 7,
   "metadata": {},
   "outputs": [],
   "source": [
    "# #print out some information\n",
    "# print 'title: {}'.format(records[1].get(\"TI\",\"?\"))\n",
    "# print 'authors: {}'.format(records[1].get(\"AU\",\"?\"))\n",
    "# print \"source: {}\".format(records[1].get(\"SO\",\"?\"))"
   ]
  },
  {
   "cell_type": "code",
   "execution_count": 23,
   "metadata": {},
   "outputs": [],
   "source": [
    "tuples = []\n",
    "for record in records:\n",
    "    try:\n",
    "        title = record['TI']\n",
    "        authors = record['AU']\n",
    "        crdt = record['CRDT'][0][:10]\n",
    "    except Exception as e:\n",
    "        continue\n",
    "    tuples.append((title, authors, crdt))\n",
    "pubmed_df = pd.DataFrame(tuples, columns=['title','authors','crdt'])"
   ]
  },
  {
   "cell_type": "code",
   "execution_count": 24,
   "metadata": {},
   "outputs": [
    {
     "data": {
      "text/html": [
       "<div>\n",
       "<style>\n",
       "    .dataframe thead tr:only-child th {\n",
       "        text-align: right;\n",
       "    }\n",
       "\n",
       "    .dataframe thead th {\n",
       "        text-align: left;\n",
       "    }\n",
       "\n",
       "    .dataframe tbody tr th {\n",
       "        vertical-align: top;\n",
       "    }\n",
       "</style>\n",
       "<table border=\"1\" class=\"dataframe\">\n",
       "  <thead>\n",
       "    <tr style=\"text-align: right;\">\n",
       "      <th></th>\n",
       "      <th>title</th>\n",
       "      <th>authors</th>\n",
       "      <th>crdt</th>\n",
       "    </tr>\n",
       "  </thead>\n",
       "  <tbody>\n",
       "    <tr>\n",
       "      <th>0</th>\n",
       "      <td>Generating evidence to inform an update of ast...</td>\n",
       "      <td>[Mensah GA, Kiley JP, Gibbons GH]</td>\n",
       "      <td>2018/07/24</td>\n",
       "    </tr>\n",
       "    <tr>\n",
       "      <th>1</th>\n",
       "      <td>Basophil levels in PBMC population during chil...</td>\n",
       "      <td>[Leffler J, Jones AC, Hollams EM, Prastanti F,...</td>\n",
       "      <td>2018/07/24</td>\n",
       "    </tr>\n",
       "  </tbody>\n",
       "</table>\n",
       "</div>"
      ],
      "text/plain": [
       "                                               title  \\\n",
       "0  Generating evidence to inform an update of ast...   \n",
       "1  Basophil levels in PBMC population during chil...   \n",
       "\n",
       "                                             authors        crdt  \n",
       "0                  [Mensah GA, Kiley JP, Gibbons GH]  2018/07/24  \n",
       "1  [Leffler J, Jones AC, Hollams EM, Prastanti F,...  2018/07/24  "
      ]
     },
     "execution_count": 24,
     "metadata": {},
     "output_type": "execute_result"
    }
   ],
   "source": [
    "pubmed_df.head(2)"
   ]
  },
  {
   "cell_type": "code",
   "execution_count": 26,
   "metadata": {},
   "outputs": [],
   "source": []
  },
  {
   "cell_type": "code",
   "execution_count": 32,
   "metadata": {},
   "outputs": [
    {
     "data": {
      "text/plain": [
       "Text(0,0.5,u'Count')"
      ]
     },
     "execution_count": 32,
     "metadata": {},
     "output_type": "execute_result"
    },
    {
     "data": {
      "image/png": "[encoded data removed]",
      "text/plain": [
       "<matplotlib.figure.Figure at 0x1a1d2c59d0>"
      ]
     },
     "metadata": {},
     "output_type": "display_data"
    }
   ],
   "source": [
    "pubmed_df_counts = pubmed_df.groupby('crdt').size()    \n",
    "pubmed_df_counts.plot(figsize=(20,5), title='Asthma Paper Publications')\n",
    "plt.xlabel('Date')\n",
    "plt.ylabel('Count')"
   ]
  },
  {
   "cell_type": "code",
   "execution_count": 11,
   "metadata": {},
   "outputs": [],
   "source": [
    "#some parser functions for the abstract of pubmed articles\n",
    "def get_methods(record):\n",
    "    '''returns the METHODS: section of the record'''\n",
    "    beginning_index = record['AB'].find(\"METHODS:\")+len(\"METHODS:\")\n",
    "    ending_index = get_next_section_index(record['AB'][beginning_index:])\n",
    "    return record['AB'][beginning_index:beginning_index + ending_index].strip()\n",
    "\n",
    "def get_conclusion(record):\n",
    "    '''returns CONCLUSION section of record'''\n",
    "    #beginning_index = record['AB'].find(\"CONCLUSION:\")+len(\"CONCLUSION:\")\n",
    "    conclusion_names = [\"CONCLUSIONS:\",\"CONCLUSION:\", \"Conclusion:\"]\n",
    "    beginning_index = max([re.search(i,record['AB'],re.IGNORECASE).end() \\\n",
    "                        for i in conclusion_names if re.search(i,record['AB'],re.IGNORECASE)])\n",
    "    #print beginning_index\n",
    "#     beginning_index = max([record['AB'].find(\"CONCLUSIONS:\")+len(\"CONCLUSIONS:\"),\\\n",
    "#                           record['AB'].find(\"CONCLUSION:\")+len(\"CONCLUSION:\")])\n",
    "    ending_index = get_next_section_index(record['AB'][beginning_index:])\n",
    "    return record['AB'][beginning_index:beginning_index + ending_index].strip()\n",
    "\n",
    "\n",
    "def get_next_section_index(record_string):\n",
    "    '''returns the next section index. Used to limit output of other get_section functions'''\n",
    "    section_names = [\"RATIONALE:\",\"OBJECTIVES:\",\"METHODS:\",\"RESULTS:\",\"CONCLUSION:\",\\\n",
    "                    \"OBJECTIVE:\",\"METHOD:\",\"RESULT:\"]\n",
    "    try:\n",
    "        #ending_index = min([record_string.find(i) for i in section_names if record_string.find(i) > 0])\n",
    "        ending_index = min([re.search(i,ss,re.IGNORECASE).start() for i in section_names if re.search(i,ss,re.IGNORECASE)])\n",
    "        return ending_index\n",
    "    except:\n",
    "        #no more sections. return large number\n",
    "        return 9999999\n",
    "\n",
    "# def get_next_section_index2(record_string):\n",
    "#     '''returns the next section index. Used to limit output of other get_section functions'''\n",
    "#     section_names = [\"RATIONALE:\",\"OBJECTIVES:\",\"METHODS:\",\"RESULTS:\",\"CONCLUSION:\",\\\n",
    "#                     \"OBJECTIVE:\",\"METHOD:\",\"RESULT:\",\"BACKGROUND:\"]\n",
    "    \n",
    "#     try:\n",
    "#         ending_index = min()\n",
    "#         ending_index = min([record_string.find(i) for i in section_names if record_string.find(i) > 0])\n",
    "#         return ending_index\n",
    "#     except:\n",
    "#         #no more sections. return large number\n",
    "#         return 9999999\n"
   ]
  },
  {
   "cell_type": "code",
   "execution_count": 14,
   "metadata": {},
   "outputs": [
    {
     "data": {
      "text/plain": [
       "{'AB': 'To advance the development of bronchodilators for asthma and chronic obstructive pulmonary disease (COPD), this study was designed to investigate the mechanism of functional antagonism between &beta;(2)-adrenergic and muscarinic M(2) receptors, focusing on allosteric effects and G proteins/ion channels coupling. Muscarinic receptor antagonists (tiotropium, glycopyrronium, atropine) synergistically enhanced the relaxant effects of &beta;(2)-adrenergic receptor agonists (procaterol, salbutamol, formoterol) in guinea pig trachealis. This crosstalk was inhibited by iberitoxin, a large-conductance Ca(2+)-activated K(+) (KCa) channel inhibitor, whereas it was increased by verapamil, a L-type voltage-dependent Ca(2+) (VDC) channel inhibitor; additionally, it was enhanced after tissues were incubated with pertussis or cholera toxin. This synergism converges in the G proteins (Gi, Gs)/KCa channel/VDC channel linkages. Muscarinic receptor antagonists competitively suppressed, whereas, &beta;(2)-adrenergic receptor agonists noncompetitively suppressed muscarinic contraction. In concentration-inhibition curves for &beta;(2)-adrenergic receptor agonists with muscarinic receptor antagonists, EC50 was markedly decreased, and maximal inhibition was markedly increased. Hence, muscarinic receptor antagonists do not bind to allosteric sites on muscarinic receptors. &beta;(2)-Adrenergic receptor agonists bind to allosteric sites on these receptors; their intrinsic efficacy is attenuated by allosteric modulation (partial agonism). Muscarinic receptor antagonists enhance affinity and efficacy of &beta;(2)-adrenergic action via allosteric sites in &beta;(2)-adrenergic receptors (synergism). In conclusion, KCa channels and allosterism may be novel targets of bronchodilator therapy for diseases such as asthma and COPD.',\n",
       " 'AD': 'Department of Respiratory Medicine and Allergology, Faculty of Medicine, Kindai University, 377-2 Ohnohigashi, Osakasayama 589-8511, Japan. hkume@med.kindai.ac.jp. Department of Respiratory Medicine and Allergology, Faculty of Medicine, Kindai University, 377-2 Ohnohigashi, Osakasayama 589-8511, Japan. nishi-o@med.kindai.ac.jp. Department of Respiratory Medicine and Allergology, Faculty of Medicine, Kindai University, 377-2 Ohnohigashi, Osakasayama 589-8511, Japan. solution.management27@gmail.com. Department of Respiratory Medicine and Allergology, Faculty of Medicine, Kindai University, 377-2 Ohnohigashi, Osakasayama 589-8511, Japan. yhigashi@med.kindai.ac.jp. Department of Respiratory Medicine and Allergology, Faculty of Medicine, Kindai University, 377-2 Ohnohigashi, Osakasayama 589-8511, Japan. tohda@med.kindai.ac.jp. Division of Clinical Sciences and Neuropsychopharmacology, Graduate School of Pharmacy, Meijo University, 150 Yagotoyama, Tempaku-ku, Nagoya 468-8503, Japan. y-noda@med.nagoya-u.ac.jp.',\n",
       " 'AID': ['ijms19071999 [pii]', '10.3390/ijms19071999 [doi]'],\n",
       " 'AU': ['Kume H',\n",
       "  'Nishiyama O',\n",
       "  'Isoya T',\n",
       "  'Higashimoto Y',\n",
       "  'Tohda Y',\n",
       "  'Noda Y'],\n",
       " 'CRDT': ['2018/07/11 06:00'],\n",
       " 'DEP': '20180709',\n",
       " 'DP': '2018 Jul 9',\n",
       " 'EDAT': '2018/07/11 06:00',\n",
       " 'FAU': ['Kume, Hiroaki',\n",
       "  'Nishiyama, Osamu',\n",
       "  'Isoya, Takaaki',\n",
       "  'Higashimoto, Yuji',\n",
       "  'Tohda, Yuji',\n",
       "  'Noda, Yukihiro'],\n",
       " 'IP': '7',\n",
       " 'IS': '1422-0067 (Electronic) 1422-0067 (Linking)',\n",
       " 'JID': '101092791',\n",
       " 'JT': 'International journal of molecular sciences',\n",
       " 'LA': ['eng'],\n",
       " 'LID': 'E1999 [pii] 10.3390/ijms19071999 [doi]',\n",
       " 'LR': '20180710',\n",
       " 'MHDA': '2018/07/11 06:00',\n",
       " 'OT': ['COPD',\n",
       "  'G protein',\n",
       "  'L-type voltage-dependent Ca2+ channels',\n",
       "  'asthma',\n",
       "  'large-conductance Ca2+-activated K+ channels',\n",
       "  'muscarinic receptor antagonists',\n",
       "  'synergistic effects',\n",
       "  'beta2-adrenoceptor agonists'],\n",
       " 'OTO': ['NOTNLM'],\n",
       " 'OWN': 'NLM',\n",
       " 'PHST': ['2018/03/23 00:00 [received]',\n",
       "  '2018/06/24 00:00 [revised]',\n",
       "  '2018/07/04 00:00 [accepted]',\n",
       "  '2018/07/11 06:00 [entrez]',\n",
       "  '2018/07/11 06:00 [pubmed]',\n",
       "  '2018/07/11 06:00 [medline]'],\n",
       " 'PL': 'Switzerland',\n",
       " 'PMID': '29987243',\n",
       " 'PST': 'epublish',\n",
       " 'PT': ['Journal Article'],\n",
       " 'SO': 'Int J Mol Sci. 2018 Jul 9;19(7). pii: ijms19071999. doi: 10.3390/ijms19071999.',\n",
       " 'STAT': 'In-Process',\n",
       " 'TA': 'Int J Mol Sci',\n",
       " 'TI': 'Involvement of Allosteric Effect and KCa Channels in Crosstalk between beta(2)-Adrenergic and Muscarinic M(2) Receptors in Airway Smooth Muscle.',\n",
       " 'VI': '19'}"
      ]
     },
     "execution_count": 14,
     "metadata": {},
     "output_type": "execute_result"
    }
   ],
   "source": [
    "records[len(records)-1]"
   ]
  },
  {
   "cell_type": "code",
   "execution_count": 12,
   "metadata": {},
   "outputs": [
    {
     "name": "stdout",
     "output_type": "stream",
     "text": [
      "To advance the development of bronchodilators for asthma and chronic obstructive pulmonary disease (COPD), this study was designed to investigate the mechanism of functional antagonism between &beta;(2)-adrenergic and muscarinic M(2) receptors, focusing on allosteric effects and G proteins/ion channels coupling. Muscarinic receptor antagonists (tiotropium, glycopyrronium, atropine) synergistically enhanced the relaxant effects of &beta;(2)-adrenergic receptor agonists (procaterol, salbutamol, formoterol) in guinea pig trachealis. This crosstalk was inhibited by iberitoxin, a large-conductance Ca(2+)-activated K(+) (KCa) channel inhibitor, whereas it was increased by verapamil, a L-type voltage-dependent Ca(2+) (VDC) channel inhibitor; additionally, it was enhanced after tissues were incubated with pertussis or cholera toxin. This synergism converges in the G proteins (Gi, Gs)/KCa channel/VDC channel linkages. Muscarinic receptor antagonists competitively suppressed, whereas, &beta;(2)-adrenergic receptor agonists noncompetitively suppressed muscarinic contraction. In concentration-inhibition curves for &beta;(2)-adrenergic receptor agonists with muscarinic receptor antagonists, EC50 was markedly decreased, and maximal inhibition was markedly increased. Hence, muscarinic receptor antagonists do not bind to allosteric sites on muscarinic receptors. &beta;(2)-Adrenergic receptor agonists bind to allosteric sites on these receptors; their intrinsic efficacy is attenuated by allosteric modulation (partial agonism). Muscarinic receptor antagonists enhance affinity and efficacy of &beta;(2)-adrenergic action via allosteric sites in &beta;(2)-adrenergic receptors (synergism). In conclusion, KCa channels and allosterism may be novel targets of bronchodilator therapy for diseases such as asthma and COPD.\n",
      "\n",
      "\n",
      "To advance the development of bronchodilators for asthma and chronic obstructive pulmonary disease (COPD), this study was designed to investigate the mechanism of functional antagonism between &beta;(2)-adrenergic and muscarinic M(2) receptors, focusing on allosteric effects and G proteins/ion channels coupling.\n",
      "Muscarinic receptor antagonists enhance affinity and efficacy of &beta;(2)-adrenergic action via allosteric sites in &beta;(2)-adrenergic receptors (synergism).\n"
     ]
    }
   ],
   "source": [
    "from gensim.summarization.summarizer import summarize\n",
    "\n",
    "print records[len(records)-1]['AB']\n",
    "print '\\n'\n",
    "print summarize(records[len(records)-1]['AB'])"
   ]
  },
  {
   "cell_type": "code",
   "execution_count": 13,
   "metadata": {},
   "outputs": [
    {
     "ename": "ValueError",
     "evalue": "max() arg is an empty sequence",
     "output_type": "error",
     "traceback": [
      "\u001b[0;31m---------------------------------------------------------------------------\u001b[0m",
      "\u001b[0;31mValueError\u001b[0m                                Traceback (most recent call last)",
      "\u001b[0;32m<ipython-input-13-d8a41887d318>\u001b[0m in \u001b[0;36m<module>\u001b[0;34m()\u001b[0m\n\u001b[0;32m----> 1\u001b[0;31m \u001b[0mss\u001b[0m \u001b[0;34m=\u001b[0m \u001b[0mget_conclusion\u001b[0m\u001b[0;34m(\u001b[0m\u001b[0mrecords\u001b[0m\u001b[0;34m[\u001b[0m\u001b[0mlen\u001b[0m\u001b[0;34m(\u001b[0m\u001b[0mrecords\u001b[0m\u001b[0;34m)\u001b[0m\u001b[0;34m-\u001b[0m\u001b[0;36m1\u001b[0m\u001b[0;34m]\u001b[0m\u001b[0;34m)\u001b[0m\u001b[0;34m\u001b[0m\u001b[0m\n\u001b[0m\u001b[1;32m      2\u001b[0m \u001b[0;31m# section_names = [\"RATIONALE:\",\"OBJECTIVES:\",\"METHODS:\",\"RESULTS:\",\"CONCLUSION:\",\\\u001b[0m\u001b[0;34m\u001b[0m\u001b[0;34m\u001b[0m\u001b[0m\n\u001b[1;32m      3\u001b[0m \u001b[0;31m#                     \"OBJECTIVE:\",\"METHOD:\",\"RESULT:\",\"BACKGROUND:\"]\u001b[0m\u001b[0;34m\u001b[0m\u001b[0;34m\u001b[0m\u001b[0m\n\u001b[1;32m      4\u001b[0m \u001b[0;31m# re.search(\"CONCLUSION:\",ss,re.IGNORECASE).start()\u001b[0m\u001b[0;34m\u001b[0m\u001b[0;34m\u001b[0m\u001b[0m\n\u001b[1;32m      5\u001b[0m \u001b[0;34m\u001b[0m\u001b[0m\n",
      "\u001b[0;32m<ipython-input-11-0e872d2690b3>\u001b[0m in \u001b[0;36mget_conclusion\u001b[0;34m(record)\u001b[0m\n\u001b[1;32m     10\u001b[0m     \u001b[0;31m#beginning_index = record['AB'].find(\"CONCLUSION:\")+len(\"CONCLUSION:\")\u001b[0m\u001b[0;34m\u001b[0m\u001b[0;34m\u001b[0m\u001b[0m\n\u001b[1;32m     11\u001b[0m     \u001b[0mconclusion_names\u001b[0m \u001b[0;34m=\u001b[0m \u001b[0;34m[\u001b[0m\u001b[0;34m\"CONCLUSIONS:\"\u001b[0m\u001b[0;34m,\u001b[0m\u001b[0;34m\"CONCLUSION:\"\u001b[0m\u001b[0;34m,\u001b[0m \u001b[0;34m\"Conclusion:\"\u001b[0m\u001b[0;34m]\u001b[0m\u001b[0;34m\u001b[0m\u001b[0m\n\u001b[0;32m---> 12\u001b[0;31m     \u001b[0mbeginning_index\u001b[0m \u001b[0;34m=\u001b[0m \u001b[0mmax\u001b[0m\u001b[0;34m(\u001b[0m\u001b[0;34m[\u001b[0m\u001b[0mre\u001b[0m\u001b[0;34m.\u001b[0m\u001b[0msearch\u001b[0m\u001b[0;34m(\u001b[0m\u001b[0mi\u001b[0m\u001b[0;34m,\u001b[0m\u001b[0mrecord\u001b[0m\u001b[0;34m[\u001b[0m\u001b[0;34m'AB'\u001b[0m\u001b[0;34m]\u001b[0m\u001b[0;34m,\u001b[0m\u001b[0mre\u001b[0m\u001b[0;34m.\u001b[0m\u001b[0mIGNORECASE\u001b[0m\u001b[0;34m)\u001b[0m\u001b[0;34m.\u001b[0m\u001b[0mend\u001b[0m\u001b[0;34m(\u001b[0m\u001b[0;34m)\u001b[0m                         \u001b[0;32mfor\u001b[0m \u001b[0mi\u001b[0m \u001b[0;32min\u001b[0m \u001b[0mconclusion_names\u001b[0m \u001b[0;32mif\u001b[0m \u001b[0mre\u001b[0m\u001b[0;34m.\u001b[0m\u001b[0msearch\u001b[0m\u001b[0;34m(\u001b[0m\u001b[0mi\u001b[0m\u001b[0;34m,\u001b[0m\u001b[0mrecord\u001b[0m\u001b[0;34m[\u001b[0m\u001b[0;34m'AB'\u001b[0m\u001b[0;34m]\u001b[0m\u001b[0;34m,\u001b[0m\u001b[0mre\u001b[0m\u001b[0;34m.\u001b[0m\u001b[0mIGNORECASE\u001b[0m\u001b[0;34m)\u001b[0m\u001b[0;34m]\u001b[0m\u001b[0;34m)\u001b[0m\u001b[0;34m\u001b[0m\u001b[0m\n\u001b[0m\u001b[1;32m     13\u001b[0m     \u001b[0;31m#print beginning_index\u001b[0m\u001b[0;34m\u001b[0m\u001b[0;34m\u001b[0m\u001b[0m\n\u001b[1;32m     14\u001b[0m \u001b[0;31m#     beginning_index = max([record['AB'].find(\"CONCLUSIONS:\")+len(\"CONCLUSIONS:\"),\\\u001b[0m\u001b[0;34m\u001b[0m\u001b[0;34m\u001b[0m\u001b[0m\n",
      "\u001b[0;31mValueError\u001b[0m: max() arg is an empty sequence"
     ]
    }
   ],
   "source": [
    "ss = get_conclusion(records[len(records)-1])\n",
    "# section_names = [\"RATIONALE:\",\"OBJECTIVES:\",\"METHODS:\",\"RESULTS:\",\"CONCLUSION:\",\\\n",
    "#                     \"OBJECTIVE:\",\"METHOD:\",\"RESULT:\",\"BACKGROUND:\"]\n",
    "# re.search(\"CONCLUSION:\",ss,re.IGNORECASE).start()\n",
    "\n",
    "# [re.search(i,ss,re.IGNORECASE).start() for i in section_names if re.search(i,ss,re.IGNORECASE)]\n",
    "ss"
   ]
  },
  {
   "cell_type": "code",
   "execution_count": null,
   "metadata": {},
   "outputs": [],
   "source": [
    "re.search(\"Conclusion:\", records[9]['AB'], re.IGNORECASE)"
   ]
  },
  {
   "cell_type": "code",
   "execution_count": null,
   "metadata": {},
   "outputs": [],
   "source": [
    "for i, rec in enumerate(records):\n",
    "    try:\n",
    "        print i, get_conclusion(rec)\n",
    "    except:\n",
    "        print i\n",
    "        continue"
   ]
  },
  {
   "cell_type": "code",
   "execution_count": null,
   "metadata": {},
   "outputs": [],
   "source": [
    "get_methods(records[1])"
   ]
  },
  {
   "cell_type": "code",
   "execution_count": null,
   "metadata": {},
   "outputs": [],
   "source": [
    "records[1]['AB']"
   ]
  },
  {
   "cell_type": "code",
   "execution_count": null,
   "metadata": {},
   "outputs": [],
   "source": [
    "from nltk.sentiment.vader import SentimentIntensityAnalyzer"
   ]
  },
  {
   "cell_type": "code",
   "execution_count": null,
   "metadata": {},
   "outputs": [],
   "source": [
    "sid = SentimentIntensityAnalyzer()\n",
    "sid.polarity_scores(get_conclusion(records[1]))"
   ]
  },
  {
   "cell_type": "code",
   "execution_count": null,
   "metadata": {},
   "outputs": [],
   "source": [
    "tuples = []\n",
    "for rec in records:\n",
    "    try:\n",
    "        conclusion = get_conclusion(rec)\n",
    "    except:\n",
    "        continue\n",
    "    scores = sid.polarity_scores(conclusion)\n",
    "    tuples.append((conclusion, scores, scores['compound']))"
   ]
  },
  {
   "cell_type": "code",
   "execution_count": null,
   "metadata": {},
   "outputs": [],
   "source": [
    "df_scores = pd.DataFrame(tuples, columns=['conclusion','scores','compound'])"
   ]
  },
  {
   "cell_type": "code",
   "execution_count": null,
   "metadata": {},
   "outputs": [],
   "source": [
    "df_scores.to_csv('scores.csv')"
   ]
  },
  {
   "cell_type": "code",
   "execution_count": null,
   "metadata": {},
   "outputs": [],
   "source": [
    "records[1]"
   ]
  },
  {
   "cell_type": "code",
   "execution_count": null,
   "metadata": {},
   "outputs": [],
   "source": []
  },
  {
   "cell_type": "code",
   "execution_count": null,
   "metadata": {},
   "outputs": [],
   "source": []
  }
 ],
 "metadata": {
  "kernelspec": {
   "display_name": "Python 2",
   "language": "python",
   "name": "python2"
  },
  "language_info": {
   "codemirror_mode": {
    "name": "ipython",
    "version": 2
   },
   "file_extension": ".py",
   "mimetype": "text/x-python",
   "name": "python",
   "nbconvert_exporter": "python",
   "pygments_lexer": "ipython2",
   "version": "2.7.14"
  }
 },
 "nbformat": 4,
 "nbformat_minor": 2
}
